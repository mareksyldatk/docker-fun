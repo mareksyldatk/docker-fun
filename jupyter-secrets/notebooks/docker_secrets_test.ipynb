{
 "cells": [
  {
   "cell_type": "code",
   "execution_count": 1,
   "metadata": {},
   "outputs": [
    {
     "name": "stdout",
     "output_type": "stream",
     "text": [
      "total 72\r\n",
      "drwxr-xr-x   1 root root 4096 Dec 27 17:48 .\r\n",
      "drwxr-xr-x   1 root root 4096 Dec 27 17:48 ..\r\n",
      "-rwxr-xr-x   1 root root    0 Dec 27 17:48 .dockerenv\r\n",
      "drwxr-xr-x   1 root root 4096 Nov 16 11:19 bin\r\n",
      "drwxr-xr-x   2 root root 4096 Oct 20 10:40 boot\r\n",
      "drwxr-xr-x   5 root root  340 Dec 27 17:48 dev\r\n",
      "drwxr-xr-x   1 root root 4096 Dec 27 17:48 etc\r\n",
      "drwxr-xr-x   2 root root 4096 Oct 20 10:40 home\r\n",
      "drwxr-xr-x   1 root root 4096 Nov 16 11:19 lib\r\n",
      "drwxr-xr-x   2 root root 4096 Nov 12 00:00 lib64\r\n",
      "drwxr-xr-x   2 root root 4096 Nov 12 00:00 media\r\n",
      "drwxr-xr-x   2 root root 4096 Nov 12 00:00 mnt\r\n",
      "drwxr-xr-x   2 root root 4096 Nov 12 00:00 opt\r\n",
      "dr-xr-xr-x 222 root root    0 Dec 27 17:48 proc\r\n",
      "drwx------   1 root root 4096 Dec 27 17:53 root\r\n",
      "drwxr-xr-x   1 root root 4096 Dec 27 17:48 run\r\n",
      "drwxr-xr-x   1 root root 4096 Nov 16 11:16 sbin\r\n",
      "drwxr-xr-x   2 root root 4096 Nov 12 00:00 srv\r\n",
      "dr-xr-xr-x  13 root root    0 Dec 27 17:55 sys\r\n",
      "drwxrwxrwt   1 root root 4096 Nov 28 11:12 tmp\r\n",
      "drwxr-xr-x   1 root root 4096 Nov 28 11:11 usr\r\n",
      "drwxr-xr-x   1 root root 4096 Nov 12 00:00 var\r\n"
     ]
    }
   ],
   "source": [
    "!ls / -la"
   ]
  },
  {
   "cell_type": "code",
   "execution_count": 2,
   "metadata": {},
   "outputs": [
    {
     "name": "stdout",
     "output_type": "stream",
     "text": [
      "total 16\r\n",
      "drwxr-xr-x 1 root root 4096 Dec 27 17:48 .\r\n",
      "drwxr-xr-x 1 root root 4096 Dec 27 17:48 ..\r\n",
      "drwxrwxrwt 2 root root 4096 Nov 12 00:00 lock\r\n",
      "drwxr-xr-x 2 root root 4096 Dec 27 17:48 secrets\r\n",
      "-rw-rw-r-- 1 root utmp    0 Nov 12 00:00 utmp\r\n"
     ]
    }
   ],
   "source": [
    "!ls /run/ -la"
   ]
  },
  {
   "cell_type": "code",
   "execution_count": 3,
   "metadata": {},
   "outputs": [
    {
     "name": "stdout",
     "output_type": "stream",
     "text": [
      "total 12\r\n",
      "drwxr-xr-x 2 root root 4096 Dec 27 17:48 .\r\n",
      "drwxr-xr-x 1 root root 4096 Dec 27 17:48 ..\r\n",
      "-rw-r--r-- 1 root root   50 Dec 27 17:56 test_secret\r\n"
     ]
    }
   ],
   "source": [
    "!ls /run/secrets -la"
   ]
  },
  {
   "cell_type": "code",
   "execution_count": 4,
   "metadata": {},
   "outputs": [
    {
     "name": "stdout",
     "output_type": "stream",
     "text": [
      "docker test secret content \r\n",
      "second line\r\n",
      "3rd line\r\n"
     ]
    }
   ],
   "source": [
    "!cat /run/secrets/test_secret"
   ]
  }
 ],
 "metadata": {
  "kernelspec": {
   "display_name": "Python 3",
   "language": "python",
   "name": "python3"
  },
  "language_info": {
   "codemirror_mode": {
    "name": "ipython",
    "version": 3
   },
   "file_extension": ".py",
   "mimetype": "text/x-python",
   "name": "python",
   "nbconvert_exporter": "python",
   "pygments_lexer": "ipython3",
   "version": "3.7.1"
  }
 },
 "nbformat": 4,
 "nbformat_minor": 2
}
